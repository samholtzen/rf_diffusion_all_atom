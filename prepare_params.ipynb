{
 "cells": [
  {
   "cell_type": "markdown",
   "id": "4f625de9-b67c-4cd7-ad2c-4f5cfab44e57",
   "metadata": {},
   "source": [
    "Steps before this:\n",
    "1. Find a ligand you are interested in on PDB\n",
    "2. Find its three letter code and query PDB using: Structure Attributes > Component Identifier - Has No Covalent Linkage > (Three letter code)\n",
    "3. Click the \"download\" button and copy the names from the box to a text file.\n",
    "4. Use the bash script get_ligand_sdf.sh and your PDB text file to download the .sdf files from PDB to your local directory."
   ]
  },
  {
   "cell_type": "code",
   "execution_count": 1,
   "id": "072e2123-a908-4a8e-8cf0-0c908e3ba3ea",
   "metadata": {
    "tags": []
   },
   "outputs": [],
   "source": [
    "from openbabel import pybel\n",
    "import sys, os, glob\n",
    "import subprocess\n",
    "\n",
    "ligand = 'GLC'\n",
    "\n",
    "if not os.path.exists(f'input/params/{ligand}'):\n",
    "    os.makedirs(f'input/params/{ligand}', exist_ok=False)\n",
    "\n",
    "inout_dir = f'input/params/{ligand}'\n",
    "rosetta_dir = '../rosetta/source/scripts/python/public'\n",
    "\n",
    "in_file = glob.glob(f'{inout_dir}/*_{ligand}.sdf')\n",
    "for file in in_file:\n",
    "    \n",
    "    filename = os.path.splitext(os.path.basename(file))[0]\n",
    "    dirname = os.path.dirname(file)\n",
    "    \n",
    "    mol = next(pybel.readfile('sdf',file))\n",
    "    mol.OBMol.AddHydrogens(False, True, 7.0)\n",
    "\n",
    "    mol.write('sdf',f'{dirname}/{filename}_H.sdf', overwrite=True)\n",
    "\n"
   ]
  },
  {
   "cell_type": "code",
   "execution_count": null,
   "id": "31c2b6ba-2580-42b2-850a-0f3fddbbba1e",
   "metadata": {
    "tags": []
   },
   "outputs": [],
   "source": [
    "# Location of script to convert molfile to a params file and its corresponding pdb file\n",
    "\n",
    "in_file = glob.glob(f'{inout_dir}/*{ligand}_H.sdf')\n",
    "\n",
    "for file in in_file:\n",
    "    \n",
    "    filename = os.path.splitext(os.path.basename(file))[0]\n",
    "    \n",
    "    move_params = f'mv {ligand}.params {inout_dir}/{ligand}.params'\n",
    "    move_pdb = f'mv {ligand}_0001.pdb {inout_dir}/{filename}.pdb'\n",
    "\n",
    "    molfile_to_params_cmd = f'python {rosetta_dir}/molfile_to_params.py {file} --name {ligand} --clobber ; {move_pdb} ; {move_params}'\n",
    "\n",
    "    print(molfile_to_params_cmd)\n",
    "\n",
    "    p = subprocess.Popen(molfile_to_params_cmd, shell=True)"
   ]
  },
  {
   "cell_type": "code",
   "execution_count": 4,
   "id": "f5bb9fed-bb16-46f3-a333-0bed9f34bcfd",
   "metadata": {
    "tags": []
   },
   "outputs": [
    {
     "name": "stdout",
     "output_type": "stream",
     "text": [
      "[[25], [25], [25], [25], [25], [25], [25], [25], [25], [24], [25], [25], [25], [25], [25], [25], [25], [25], [24], [24], [24], [24], [24], [25], [25], [25], [25], [24], [25], [24], [25], [25], [25], [25], [25], [25], [25], [25], [25], [25], [25], [24], [25], [25], [25], [25], [25], [25], [25], [24], [25], [25], [25], [25], [25], [24], [25], [25], [25], [25], [25], [25], [25], [25], [25], [25], [25], [25], [25], [25], [24], [25], [25], [25], [25], [25], [23], [25], [25], [25], [25], [25], [25], [25], [25], [25], [25], [25], [25], [25], [25], [25], [25], [25], [25], [25], [25], [25], [25], [25], [25], [24], [25], [25], [25], [25], [25], [25], [25], [25], [25], [24], [25], [25], [25], [25], [25], [25], [25], [25], [25], [25], [25], [25], [24], [25], [25], [24], [24], [24], [25], [24]]\n"
     ]
    }
   ],
   "source": [
    "all_pdbs = glob.glob(f'{inout_dir}/*{ligand}_H.pdb')\n",
    "lines_in_file = []\n",
    "\n",
    "for pdb_file in all_pdbs:\n",
    "\n",
    "    with open(pdb_file, 'r') as pdb_count:\n",
    "        \n",
    "        num_lines = sum(1 for line in pdb_count)\n",
    "        lines_in_file.append([num_lines])\n",
    "\n",
    "print(lines_in_file)"
   ]
  },
  {
   "cell_type": "code",
   "execution_count": 5,
   "id": "29d7d981-24ef-4045-b759-93e15936adb3",
   "metadata": {
    "tags": []
   },
   "outputs": [],
   "source": [
    "all_pdbs = glob.glob(f'{inout_dir}/*{ligand}_H.pdb')\n",
    "\n",
    "if not os.path.exists(f'{inout_dir}/ignore'):\n",
    "    os.mkdir(f'{inout_dir}/ignore')\n",
    "\n",
    "expected_lines = 25\n",
    "\n",
    "with open(f'{inout_dir}/{ligand}_conformers.pdb', 'w') as pdb_out:\n",
    "\n",
    "    for pdb_file in all_pdbs:\n",
    "        filename = os.path.basename(pdb_file)\n",
    "        \n",
    "        with open(pdb_file, 'r') as pdb_count:\n",
    "            num_lines = sum(1 for line in pdb_count)\n",
    "        \n",
    "        if num_lines == expected_lines:\n",
    "            \n",
    "            with open(pdb_file, 'r') as pdb_in:\n",
    "\n",
    "                for l in pdb_in:\n",
    "                    pdb_out.write(l)\n",
    "\n",
    "        else:\n",
    "            os.rename(pdb_file, f'{inout_dir}/ignore/{filename}')"
   ]
  },
  {
   "cell_type": "code",
   "execution_count": 6,
   "id": "474141dd-0083-4798-b54b-b373af0be461",
   "metadata": {
    "tags": []
   },
   "outputs": [],
   "source": [
    "pdb_dir = 'input/pdbs'\n",
    "\n",
    "if not os.path.exists(f'{pdb_dir}/{ligand}'):\n",
    "    os.makedirs(f'{pdb_dir}/{ligand}', exist_ok=False)\n",
    "\n",
    "all_pdbs = glob.glob(f'{inout_dir}/*{ligand}_H.pdb')\n",
    "\n",
    "for curr_pdb in all_pdbs:\n",
    "    \n",
    "    curr_filename = os.path.basename(curr_pdb).strip('_H.pdb')\n",
    "    comb_file = f'{pdb_dir}/{ligand}/{curr_filename}.pdb'\n",
    "\n",
    "    with open(f'{pdb_dir}/ALA.pdb','r') as f1, open(curr_pdb,'r') as f2, open(comb_file, 'w') as f_out:\n",
    "        for l in f1:\n",
    "            f_out.write(l)\n",
    "\n",
    "        for l in f2:\n",
    "            f_out.write(l)\n",
    "            \n"
   ]
  }
 ],
 "metadata": {
  "kernelspec": {
   "display_name": "Python 3 (ipykernel)",
   "language": "python",
   "name": "python3"
  },
  "language_info": {
   "codemirror_mode": {
    "name": "ipython",
    "version": 3
   },
   "file_extension": ".py",
   "mimetype": "text/x-python",
   "name": "python",
   "nbconvert_exporter": "python",
   "pygments_lexer": "ipython3",
   "version": "3.10.15"
  }
 },
 "nbformat": 4,
 "nbformat_minor": 5
}
